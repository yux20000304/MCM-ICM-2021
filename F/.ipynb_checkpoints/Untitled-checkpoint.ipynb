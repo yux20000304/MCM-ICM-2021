{
 "cells": [
  {
   "cell_type": "code",
   "execution_count": 1,
   "metadata": {},
   "outputs": [],
   "source": [
    "import numpy as np\n",
    "import pandas as pd\n",
    "import matplotlib.pyplot as plt\n",
    "import os\n",
    "import pandas_profiling"
   ]
  },
  {
   "cell_type": "code",
   "execution_count": 7,
   "metadata": {},
   "outputs": [],
   "source": [
    "df_cost=pd.read_csv('./data/government-expenditure-on-tertiary-education-by-country.csv')\n",
    "df_gdp_rate=pd.read_csv('./data/government-expenditure-per-student-tertiary-of-gdp-per-capita.csv')\n",
    "df_enrollment=pd.read_csv('./data/gross-enrollment-ratio-in-tertiary-education.csv')\n",
    "df_gpi=pd.read_csv('./data/gpi-tertiary-education.csv')\n",
    "df_sex_rate=pd.read_csv('./data/percentage-of-all-students-in-tertiary-education-enrolled-in-isced-6-both-sexes.csv')\n",
    "df_female=pd.read_csv('./data/share-graduates-stem-female.csv')\n",
    "df_15_edu=pd.read_csv('./data/population-breakdown-by-highest-level-of-education-achieved-for-those-aged-15-in.csv')\n",
    "df_15_edu_country=pd.read_csv('./data/projections-of-the-share-of-the-population-aged-15-educated-to-degree-level-by-country.csv')\n",
    "df_school_life=pd.read_csv('./data/school-life-expectancy-from-primary-to-tertiary-education.csv')\n",
    "df_private_edu=pd.read_csv('./data/precentage-enrolled-in-private-institutions-at-the-tertiary-education-level.csv')\n",
    "df_from_abroad=pd.read_csv('./data/share-of-students-from-abroad.csv')\n",
    "df_studying_abroad=pd.read_csv('./data/share-of-students-studying-abroad.csv')\n",
    "df_post_secondary=pd.read_csv('./data/share-of-the-population-with-a-completed-post-secondary-education.csv')\n",
    "df_complete_edu=pd.read_csv('./data/share-of-the-population-with-completed-tertiary-education.csv')\n",
    "df_secondary_no_tertiary=pd.read_csv('./data/share-of-the-population-with-secondary-education-but-no-tertiary-education.csv')\n",
    "df_gender_ratio=pd.read_csv('./data/gender-ratios-for-mean-years-of-schooling.csv')\n",
    "df_female_average_eductaion=pd.read_csv('./data/mean-years-of-schooling-female.csv')\n",
    "df_male_average_education=pd.read_csv('./data/mean-years-of-schooling-male.csv')\n"
   ]
  },
  {
   "cell_type": "code",
   "execution_count": 8,
   "metadata": {},
   "outputs": [],
   "source": [
    "#min_scoring\n",
    "def dataDirection_1(datas):         \n",
    "        return np.max(datas)-datas     \n",
    "\n",
    "#mid_scoring\n",
    "def dataDirection_2(datas, x_best):\n",
    "    temp_datas = datas - x_best\n",
    "    M = np.max(abs(temp_datas))\n",
    "    answer_datas = 1 - abs(datas - x_best) / M     \n",
    "    return answer_datas\n",
    "    \n",
    "#period_scoring\n",
    "def dataDirection_3(datas, x_min, x_max):\n",
    "    M = max(x_min - np.min(datas), np.max(datas) - x_max)\n",
    "    answer_list = []\n",
    "    for i in datas:\n",
    "        if(i < x_min):\n",
    "            answer_list.append(1 - (x_min-i) /M)      \n",
    "        elif( x_min <= i <= x_max):\n",
    "            answer_list.append(1)\n",
    "        else:\n",
    "            answer_list.append(1 - (i - x_max)/M)\n",
    "    return np.array(answer_list)   \n",
    "def temp2(datas):\n",
    "    K = np.power(np.sum(pow(datas,2),axis =1),0.5)\n",
    "    for i in range(0,K.size):\n",
    "        for j in range(0,datas[i].size):\n",
    "            datas[i,j] = datas[i,j] / K[i]      \n",
    "    return datas"
   ]
  },
  {
   "cell_type": "code",
   "execution_count": 28,
   "metadata": {},
   "outputs": [
    {
     "data": {
      "text/plain": [
       "array([38.10416164, 35.10628185, 35.48084164, 37.02269154, 26.39295521,\n",
       "       22.13789082, 23.61655445, 20.53157825, 18.18370762,  0.        ])"
      ]
     },
     "execution_count": 28,
     "metadata": {},
     "output_type": "execute_result"
    }
   ],
   "source": [
    "#GDP_rating\n",
    "year=[]\n",
    "country=['United States','Japan','Turkey',\n",
    "'Poland','United Kingdom',\n",
    "'Germany',\n",
    "'France',\n",
    "'Switzerland','Sweden','India']\n",
    "average=[]\n",
    "rate_score=[]\n",
    "\n",
    "for i in range(2010,2020):\n",
    "    year.append(str(i))\n",
    "    \n",
    "#calculate the average rate between 2010 and 2020\n",
    "for temp in country:\n",
    "    rate=df_gdp_rate[((df_gdp_rate[\"Entity\"].isin([temp]))&(df_gdp_rate[\"Year\"].isin(year)))]\n",
    "    average.append(rate[\"Government expenditure per student, tertiary (% of GDP per capita)\"].mean())\n",
    "gdp_rate_score=dataDirection_1(average)\n",
    "gdp_rate_score"
   ]
  },
  {
   "cell_type": "code",
   "execution_count": 29,
   "metadata": {},
   "outputs": [],
   "source": [
    "# average=[]\n",
    "# contient_name=['Advanced Economies,Asia and the Pacific,Eastern Europe',\n",
    "# 'Latin America and the Caribbean',\n",
    "# 'Middle East and North Africa',\n",
    "# 'Sub-Saharan Africa'\n",
    "# ]\n",
    "# for temp in country:\n",
    "#     rate=df_gender_ratio[((df_gender_ratio[\"Entity\"].isin([contient_name]))&(df_gender_ratio[\"Year\"].isin(year)))]\n",
    "#     average.append(rate[\"Regional female to male years schooling (Lee-Lee (2016))\"].mean())\n",
    "# average=np.array(average)"
   ]
  },
  {
   "cell_type": "code",
   "execution_count": 30,
   "metadata": {},
   "outputs": [
    {
     "data": {
      "text/plain": [
       "array([0.26798255, 0.81663137, 0.70561651, 0.        , 0.39585026,\n",
       "       0.8685841 , 0.54230788, 0.99637026, 0.00177317, 0.65768343])"
      ]
     },
     "execution_count": 30,
     "metadata": {},
     "output_type": "execute_result"
    }
   ],
   "source": [
    "#gpi_rating\n",
    "average=[]\n",
    "for temp in country:\n",
    "    rate=df_gpi[((df_gpi[\"Entity\"].isin([temp]))&(df_gpi[\"Year\"].isin(year)))]\n",
    "    average.append(rate[\"Gross enrolment ratio, tertiary, gender parity index (GPI)\"].mean())\n",
    "average=np.array(average)\n",
    "gender_rate_score=dataDirection_2(average,1)\n",
    "gender_rate_score"
   ]
  },
  {
   "cell_type": "code",
   "execution_count": 34,
   "metadata": {},
   "outputs": [
    {
     "data": {
      "text/plain": [
       "array([0.17281475, 0.18291741, 0.03888435, 0.05088164, 0.83885382,\n",
       "       0.35011317, 0.56645499, 0.81070768, 0.33327608, 0.        ])"
      ]
     },
     "execution_count": 34,
     "metadata": {},
     "output_type": "execute_result"
    }
   ],
   "source": [
    "#students from abroad\n",
    "average=[]\n",
    "for temp in country:\n",
    "    rate=df_from_abroad[((df_from_abroad[\"Entity\"].isin([temp]))&(df_from_abroad[\"Year\"].isin(year)))]\n",
    "    average.append(rate[\"Inbound mobility rate, both sexes (%)\"].mean())\n",
    "average=np.array(average)\n",
    "from_abroad_rate_score=dataDirection_3(average,20,50)\n",
    "from_abroad_rate_score"
   ]
  },
  {
   "cell_type": "code",
   "execution_count": null,
   "metadata": {},
   "outputs": [],
   "source": [
    "#students go abroad\n",
    "average=[]\n",
    "for temp in country:\n",
    "    rate=df_studying_abroad[((df_studying_abroad[\"Entity\"].isin([temp]))&(df_studying_abroad[\"Year\"].isin(year)))]\n",
    "    average.append(rate[\"Inbound mobility rate, both sexes (%)\"].mean())\n",
    "average=np.array(average)\n",
    "go_abroad_rate_score\n",
    "average"
   ]
  }
 ],
 "metadata": {
  "kernelspec": {
   "display_name": "Python 3",
   "language": "python",
   "name": "python3"
  },
  "language_info": {
   "codemirror_mode": {
    "name": "ipython",
    "version": 3
   },
   "file_extension": ".py",
   "mimetype": "text/x-python",
   "name": "python",
   "nbconvert_exporter": "python",
   "pygments_lexer": "ipython3",
   "version": "3.8.5"
  }
 },
 "nbformat": 4,
 "nbformat_minor": 4
}

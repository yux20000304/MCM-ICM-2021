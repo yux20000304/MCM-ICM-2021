{
 "cells": [
  {
   "cell_type": "markdown",
   "metadata": {},
   "source": [
    "# 针对印度制定的可持续发展的高等教育政策\n",
    "## 印度高等教育现状\n",
    " \n",
    " 我们上面建立的模型很好的反馈了十个国家在这五个指标上的综合表现。印度的高等教育得分处于较低的水平，依次针对印度这五个指标进行分析我们可以得到如下的结果：\n",
    " （这里是一个表显示了印度和其他几个国家的五个指标差距较大）\n",
    " 为了\n"
   ]
  },
  {
   "cell_type": "code",
   "execution_count": null,
   "metadata": {},
   "outputs": [],
   "source": []
  }
 ],
 "metadata": {
  "kernelspec": {
   "display_name": "Python 3",
   "language": "python",
   "name": "python3"
  },
  "language_info": {
   "codemirror_mode": {
    "name": "ipython",
    "version": 3
   },
   "file_extension": ".py",
   "mimetype": "text/x-python",
   "name": "python",
   "nbconvert_exporter": "python",
   "pygments_lexer": "ipython3",
   "version": "3.8.5"
  }
 },
 "nbformat": 4,
 "nbformat_minor": 4
}
